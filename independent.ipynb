{
 "cells": [
  {
   "cell_type": "code",
   "execution_count": 26,
   "metadata": {},
   "outputs": [],
   "source": [
    "import sympy as sp\n",
    "\n",
    "def independent(A):\n",
    "    A = A.T\n",
    "    B = A.rref()[1]\n",
    "    print(\"The vector \")\n",
    "    for i in range(len(B)):\n",
    "        print(\"x\",B[i]+1)\n",
    "    print(\"of the vector you input is linearly independent.\")\n",
    "    print(\"the maximun number of vectors that are linearly independent is \",min(A.shape[0], A.shape[1]))\n",
    "    "
   ]
  },
  {
   "cell_type": "code",
   "execution_count": 34,
   "metadata": {},
   "outputs": [
    {
     "name": "stdout",
     "output_type": "stream",
     "text": [
      "The vector \n",
      "x 1\n",
      "x 2\n",
      "x 4\n",
      "of the vector you input is linearly independent.\n",
      "the maximun number of vectors that are linearly independent is  4\n"
     ]
    }
   ],
   "source": [
    "##請依照下面的格式進行輸入向量\n",
    "x1 = sp.Matrix([[1, 2, -1, -1, -1]])\n",
    "x2 = sp.Matrix([[2, -1, 1, 2, -2]])\n",
    "x3 = sp.Matrix([[3, -4, 3, 5, -3]])\n",
    "x4 = sp.Matrix([[-1, 8, -5, -6, 1]])\n",
    "\n",
    "x = sp.Matrix([x1, x2, x3, x4])\n",
    "##並把x放到independent函式裡\n",
    "##就會輸出妳有哪些向量是線性獨立，以及最多有多少向量可以線性獨立 也就是min(行,列)\n",
    "\n",
    "independent(x)"
   ]
  },
  {
   "cell_type": "code",
   "execution_count": 36,
   "metadata": {},
   "outputs": [
    {
     "data": {
      "text/latex": [
       "$\\displaystyle \\left[\\begin{matrix}1 & 0 & -1 & 0\\\\0 & 1 & 2 & 0\\\\0 & 0 & 0 & 1\\\\0 & 0 & 0 & 0\\\\0 & 0 & 0 & 0\\end{matrix}\\right]$"
      ],
      "text/plain": [
       "Matrix([\n",
       "[1, 0, -1, 0],\n",
       "[0, 1,  2, 0],\n",
       "[0, 0,  0, 1],\n",
       "[0, 0,  0, 0],\n",
       "[0, 0,  0, 0]])"
      ]
     },
     "execution_count": 36,
     "metadata": {},
     "output_type": "execute_result"
    }
   ],
   "source": [
    "##驗證\n",
    "x = x.T\n",
    "x.rref()[0]"
   ]
  },
  {
   "cell_type": "code",
   "execution_count": null,
   "metadata": {},
   "outputs": [],
   "source": [
    "##pivot columns 是 1 2 4沒錯"
   ]
  }
 ],
 "metadata": {
  "kernelspec": {
   "display_name": "Python 3",
   "language": "python",
   "name": "python3"
  },
  "language_info": {
   "codemirror_mode": {
    "name": "ipython",
    "version": 3
   },
   "file_extension": ".py",
   "mimetype": "text/x-python",
   "name": "python",
   "nbconvert_exporter": "python",
   "pygments_lexer": "ipython3",
   "version": "3.7.3"
  }
 },
 "nbformat": 4,
 "nbformat_minor": 2
}
