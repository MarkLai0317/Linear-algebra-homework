{
 "cells": [
  {
   "cell_type": "code",
   "execution_count": null,
   "metadata": {},
   "outputs": [],
   "source": [
    "import sympy as sp"
   ]
  },
  {
   "cell_type": "markdown",
   "metadata": {},
   "source": [
    "# R2 -->R3"
   ]
  },
  {
   "cell_type": "code",
   "execution_count": 20,
   "metadata": {},
   "outputs": [],
   "source": [
    "\n",
    "x = sp.Matrix([3,2]) ##以B1為基底\n",
    "A1 = sp.Matrix([[1,2],\n",
    "               [0,3],\n",
    "               [1,0]])\n",
    "\n",
    "B1 = sp.Matrix([[1,0],##基底B1\n",
    "               [0,1]])\n",
    "\n",
    "B2 = sp.Matrix([[-1,1],##基底B2\n",
    "               [0,1]])\n",
    "\n",
    "C1 = sp.Matrix([[1,0,0],##基底C1\n",
    "               [0,1,0],\n",
    "               [0,0,1]])\n",
    "\n",
    "C2 = sp.Matrix([[2, 0, 1],##基底C2\n",
    "               [1, 4, 0],\n",
    "               [3, 1, 1]])"
   ]
  },
  {
   "cell_type": "code",
   "execution_count": 21,
   "metadata": {},
   "outputs": [
    {
     "data": {
      "text/latex": [
       "$\\displaystyle \\left[\\begin{matrix}- \\frac{4}{3} & - \\frac{1}{3} & \\frac{4}{3}\\\\\\frac{1}{3} & \\frac{1}{3} & - \\frac{1}{3}\\\\\\frac{11}{3} & \\frac{2}{3} & - \\frac{8}{3}\\end{matrix}\\right]$"
      ],
      "text/plain": [
       "Matrix([\n",
       "[-4/3, -1/3,  4/3],\n",
       "[ 1/3,  1/3, -1/3],\n",
       "[11/3,  2/3, -8/3]])"
      ]
     },
     "execution_count": 21,
     "metadata": {},
     "output_type": "execute_result"
    }
   ],
   "source": [
    "S = sp.Matrix([[-1,1],\n",
    "              [0,1]])\n",
    "T = sp.Matrix([[2, 0, 1],\n",
    "               [1, 4, 0],\n",
    "               [3, 1, 1]])\n",
    "Tinv = T.inv()\n",
    "Tinv"
   ]
  },
  {
   "cell_type": "code",
   "execution_count": 22,
   "metadata": {},
   "outputs": [],
   "source": [
    "A2 = Tinv*A1*S"
   ]
  },
  {
   "cell_type": "code",
   "execution_count": 23,
   "metadata": {},
   "outputs": [
    {
     "data": {
      "text/latex": [
       "$\\displaystyle \\left[\\begin{matrix}0 & - \\frac{11}{3}\\\\0 & \\frac{5}{3}\\\\-1 & \\frac{31}{3}\\end{matrix}\\right]$"
      ],
      "text/plain": [
       "Matrix([\n",
       "[ 0, -11/3],\n",
       "[ 0,   5/3],\n",
       "[-1,  31/3]])"
      ]
     },
     "execution_count": 23,
     "metadata": {},
     "output_type": "execute_result"
    }
   ],
   "source": [
    "A2"
   ]
  },
  {
   "cell_type": "code",
   "execution_count": 26,
   "metadata": {},
   "outputs": [
    {
     "data": {
      "text/latex": [
       "$\\displaystyle \\left[\\begin{matrix}7\\\\6\\\\3\\end{matrix}\\right]$"
      ],
      "text/plain": [
       "Matrix([\n",
       "[7],\n",
       "[6],\n",
       "[3]])"
      ]
     },
     "execution_count": 26,
     "metadata": {},
     "output_type": "execute_result"
    }
   ],
   "source": [
    "A1*x"
   ]
  },
  {
   "cell_type": "code",
   "execution_count": 29,
   "metadata": {},
   "outputs": [
    {
     "data": {
      "text/plain": [
       "True"
      ]
     },
     "execution_count": 29,
     "metadata": {},
     "output_type": "execute_result"
    }
   ],
   "source": [
    "x2 = sp.Matrix([-1,2])##以B2為基底\n",
    "A2*x2 == Tinv*A1*x ##變換基底後的A2和原本A1線性轉換結果是一樣的"
   ]
  },
  {
   "cell_type": "code",
   "execution_count": null,
   "metadata": {},
   "outputs": [],
   "source": []
  }
 ],
 "metadata": {
  "kernelspec": {
   "display_name": "Python 3",
   "language": "python",
   "name": "python3"
  },
  "language_info": {
   "codemirror_mode": {
    "name": "ipython",
    "version": 3
   },
   "file_extension": ".py",
   "mimetype": "text/x-python",
   "name": "python",
   "nbconvert_exporter": "python",
   "pygments_lexer": "ipython3",
   "version": "3.7.3"
  }
 },
 "nbformat": 4,
 "nbformat_minor": 2
}
