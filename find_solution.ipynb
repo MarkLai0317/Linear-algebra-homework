{
 "cells": [
  {
   "cell_type": "code",
   "execution_count": 72,
   "metadata": {},
   "outputs": [],
   "source": [
    "import sympy as sp\n",
    "def r(i,j):\n",
    "    if i == j:\n",
    "        return -1\n",
    "    else:\n",
    "        return 0\n",
    "def solution(A):\n",
    "    Arref = A.rref()[0]\n",
    "    basic = A.rref()[1]\n",
    "    B = [0 for i in range(A.shape[1])]\n",
    "    for i in range(A.shape[0]):\n",
    "        B[basic[i]] = 1\n",
    "    for i in range(len(B)):\n",
    "        if(B[i] == 0):\n",
    "           Arref = Arref.row_insert(i, sp.Matrix([[r(i,j) for j in range(len(B))]]))\n",
    "    for i in range(len(B)):\n",
    "        if(B[i] == 0):\n",
    "            print(\"one of the vector is\", Arref.col(i))\n",
    "            print(\"A * vector = \",A * Arref.col(i),\"\\n\")\n",
    "    print(\"homogeneous solution are made by matrix above\")         \n",
    "        "
   ]
  },
  {
   "cell_type": "markdown",
   "metadata": {},
   "source": [
    "# 在下面一格輸入矩陣Ａ，並放到solution()函式裡 -->solution(A)"
   ]
  },
  {
   "cell_type": "code",
   "execution_count": 73,
   "metadata": {},
   "outputs": [
    {
     "name": "stdout",
     "output_type": "stream",
     "text": [
      "one of the vector is Matrix([[3], [-1], [0], [0], [0]])\n",
      "A * vector =  Matrix([[0], [0], [0]]) \n",
      "\n",
      "one of the vector is Matrix([[3], [0], [9], [-4], [-1]])\n",
      "A * vector =  Matrix([[0], [0], [0]]) \n",
      "\n",
      "homogeneous solution are made by matrix above\n"
     ]
    }
   ],
   "source": [
    "##以下範例\n",
    "A = sp.Matrix([[3,9,0,1,5],\n",
    "               [1,3,1,1,8],\n",
    "               [2,6,0,1,2]])\n",
    "solution(A)"
   ]
  }
 ],
 "metadata": {
  "kernelspec": {
   "display_name": "Python 3",
   "language": "python",
   "name": "python3"
  },
  "language_info": {
   "codemirror_mode": {
    "name": "ipython",
    "version": 3
   },
   "file_extension": ".py",
   "mimetype": "text/x-python",
   "name": "python",
   "nbconvert_exporter": "python",
   "pygments_lexer": "ipython3",
   "version": "3.7.3"
  }
 },
 "nbformat": 4,
 "nbformat_minor": 2
}
